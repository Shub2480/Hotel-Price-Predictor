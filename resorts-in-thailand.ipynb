{
 "cells": [
  {
   "cell_type": "code",
   "execution_count": 57,
   "metadata": {
    "execution": {
     "iopub.execute_input": "2023-04-12T07:32:31.359675Z",
     "iopub.status.busy": "2023-04-12T07:32:31.359134Z",
     "iopub.status.idle": "2023-04-12T07:32:31.366529Z",
     "shell.execute_reply": "2023-04-12T07:32:31.365080Z",
     "shell.execute_reply.started": "2023-04-12T07:32:31.359630Z"
    }
   },
   "outputs": [],
   "source": [
    "import pandas as pd\n",
    "import numpy as np \n",
    "from sklearn.ensemble import RandomForestRegressor\n",
    "import matplotlib.pyplot as plt"
   ]
  },
  {
   "cell_type": "code",
   "execution_count": 3,
   "metadata": {
    "execution": {
     "iopub.execute_input": "2023-04-12T07:25:53.931974Z",
     "iopub.status.busy": "2023-04-12T07:25:53.931534Z",
     "iopub.status.idle": "2023-04-12T07:25:54.275056Z",
     "shell.execute_reply": "2023-04-12T07:25:54.273585Z",
     "shell.execute_reply.started": "2023-04-12T07:25:53.931938Z"
    }
   },
   "outputs": [],
   "source": [
    "df=pd.read_csv('Resorts in Thailand.csv')"
   ]
  },
  {
   "cell_type": "code",
   "execution_count": null,
   "metadata": {},
   "outputs": [],
   "source": []
  },
  {
   "cell_type": "code",
   "execution_count": 4,
   "metadata": {
    "execution": {
     "iopub.execute_input": "2023-04-12T07:25:54.760449Z",
     "iopub.status.busy": "2023-04-12T07:25:54.759958Z",
     "iopub.status.idle": "2023-04-12T07:25:54.770569Z",
     "shell.execute_reply": "2023-04-12T07:25:54.769195Z",
     "shell.execute_reply.started": "2023-04-12T07:25:54.760405Z"
    }
   },
   "outputs": [
    {
     "data": {
      "text/plain": [
       "(30005, 10)"
      ]
     },
     "execution_count": 4,
     "metadata": {},
     "output_type": "execute_result"
    }
   ],
   "source": [
    "df.shape"
   ]
  },
  {
   "cell_type": "code",
   "execution_count": 5,
   "metadata": {
    "execution": {
     "iopub.execute_input": "2023-04-12T07:25:55.006739Z",
     "iopub.status.busy": "2023-04-12T07:25:55.005451Z",
     "iopub.status.idle": "2023-04-12T07:25:55.033648Z",
     "shell.execute_reply": "2023-04-12T07:25:55.032299Z",
     "shell.execute_reply.started": "2023-04-12T07:25:55.006674Z"
    }
   },
   "outputs": [
    {
     "data": {
      "text/plain": [
       "Unnamed: 0                      0\n",
       "Name of Resort                  0\n",
       "Place                           0\n",
       "room                            0\n",
       "bed                           561\n",
       "Condition                     513\n",
       "price                        7559\n",
       "Travel Sustainable Level    24150\n",
       "Rating                        513\n",
       "Total Reviews                 513\n",
       "dtype: int64"
      ]
     },
     "execution_count": 5,
     "metadata": {},
     "output_type": "execute_result"
    }
   ],
   "source": [
    "df.isnull().sum()"
   ]
  },
  {
   "cell_type": "code",
   "execution_count": 6,
   "metadata": {
    "execution": {
     "iopub.execute_input": "2023-04-12T07:25:55.279646Z",
     "iopub.status.busy": "2023-04-12T07:25:55.279173Z",
     "iopub.status.idle": "2023-04-12T07:25:55.289359Z",
     "shell.execute_reply": "2023-04-12T07:25:55.287961Z",
     "shell.execute_reply.started": "2023-04-12T07:25:55.279604Z"
    }
   },
   "outputs": [
    {
     "data": {
      "text/plain": [
       "Unnamed: 0                    int64\n",
       "Name of Resort               object\n",
       "Place                        object\n",
       "room                         object\n",
       "bed                          object\n",
       "Condition                    object\n",
       "price                        object\n",
       "Travel Sustainable Level     object\n",
       "Rating                      float64\n",
       "Total Reviews                object\n",
       "dtype: object"
      ]
     },
     "execution_count": 6,
     "metadata": {},
     "output_type": "execute_result"
    }
   ],
   "source": [
    "df.dtypes"
   ]
  },
  {
   "cell_type": "code",
   "execution_count": 7,
   "metadata": {
    "execution": {
     "iopub.execute_input": "2023-04-12T07:25:55.483872Z",
     "iopub.status.busy": "2023-04-12T07:25:55.483380Z",
     "iopub.status.idle": "2023-04-12T07:25:55.496396Z",
     "shell.execute_reply": "2023-04-12T07:25:55.494896Z",
     "shell.execute_reply.started": "2023-04-12T07:25:55.483828Z"
    }
   },
   "outputs": [],
   "source": [
    "df.drop(['Unnamed: 0','Name of Resort','Travel Sustainable Level'],axis=1,inplace=True)"
   ]
  },
  {
   "cell_type": "code",
   "execution_count": 8,
   "metadata": {
    "execution": {
     "iopub.execute_input": "2023-04-12T07:25:55.818353Z",
     "iopub.status.busy": "2023-04-12T07:25:55.817278Z",
     "iopub.status.idle": "2023-04-12T07:25:55.901646Z",
     "shell.execute_reply": "2023-04-12T07:25:55.900193Z",
     "shell.execute_reply.started": "2023-04-12T07:25:55.818300Z"
    }
   },
   "outputs": [],
   "source": [
    "df['reviews']=df['Total Reviews'].str.split(' ').str[0].str.split(',').str.join(\"\")"
   ]
  },
  {
   "cell_type": "code",
   "execution_count": 9,
   "metadata": {
    "execution": {
     "iopub.execute_input": "2023-04-12T07:25:56.230217Z",
     "iopub.status.busy": "2023-04-12T07:25:56.229276Z",
     "iopub.status.idle": "2023-04-12T07:25:56.241008Z",
     "shell.execute_reply": "2023-04-12T07:25:56.239653Z",
     "shell.execute_reply.started": "2023-04-12T07:25:56.230162Z"
    }
   },
   "outputs": [],
   "source": [
    "df['reviews']=df['reviews'].astype('float')"
   ]
  },
  {
   "cell_type": "code",
   "execution_count": 10,
   "metadata": {
    "execution": {
     "iopub.execute_input": "2023-04-12T07:25:56.262640Z",
     "iopub.status.busy": "2023-04-12T07:25:56.261649Z",
     "iopub.status.idle": "2023-04-12T07:25:56.272708Z",
     "shell.execute_reply": "2023-04-12T07:25:56.271186Z",
     "shell.execute_reply.started": "2023-04-12T07:25:56.262590Z"
    }
   },
   "outputs": [
    {
     "data": {
      "text/plain": [
       "Place             object\n",
       "room              object\n",
       "bed               object\n",
       "Condition         object\n",
       "price             object\n",
       "Rating           float64\n",
       "Total Reviews     object\n",
       "reviews          float64\n",
       "dtype: object"
      ]
     },
     "execution_count": 10,
     "metadata": {},
     "output_type": "execute_result"
    }
   ],
   "source": [
    "df.dtypes"
   ]
  },
  {
   "cell_type": "code",
   "execution_count": 11,
   "metadata": {
    "execution": {
     "iopub.execute_input": "2023-04-12T07:25:56.316792Z",
     "iopub.status.busy": "2023-04-12T07:25:56.315535Z",
     "iopub.status.idle": "2023-04-12T07:25:56.325235Z",
     "shell.execute_reply": "2023-04-12T07:25:56.323993Z",
     "shell.execute_reply.started": "2023-04-12T07:25:56.316693Z"
    }
   },
   "outputs": [],
   "source": [
    "df.drop('Total Reviews',axis=1,inplace=True)"
   ]
  },
  {
   "cell_type": "code",
   "execution_count": 12,
   "metadata": {
    "execution": {
     "iopub.execute_input": "2023-04-12T07:25:56.351512Z",
     "iopub.status.busy": "2023-04-12T07:25:56.351029Z",
     "iopub.status.idle": "2023-04-12T07:25:56.520010Z",
     "shell.execute_reply": "2023-04-12T07:25:56.518885Z",
     "shell.execute_reply.started": "2023-04-12T07:25:56.351473Z"
    }
   },
   "outputs": [],
   "source": [
    "df['price']=df['price'].str.split('$').str[1]"
   ]
  },
  {
   "cell_type": "code",
   "execution_count": 13,
   "metadata": {
    "execution": {
     "iopub.execute_input": "2023-04-12T07:25:56.522865Z",
     "iopub.status.busy": "2023-04-12T07:25:56.522383Z",
     "iopub.status.idle": "2023-04-12T07:25:56.558918Z",
     "shell.execute_reply": "2023-04-12T07:25:56.557547Z",
     "shell.execute_reply.started": "2023-04-12T07:25:56.522800Z"
    }
   },
   "outputs": [],
   "source": [
    "df['price']=df['price'].str.split(',').str.join(\"\")"
   ]
  },
  {
   "cell_type": "code",
   "execution_count": 14,
   "metadata": {
    "execution": {
     "iopub.execute_input": "2023-04-12T07:25:56.560968Z",
     "iopub.status.busy": "2023-04-12T07:25:56.560499Z",
     "iopub.status.idle": "2023-04-12T07:25:56.572461Z",
     "shell.execute_reply": "2023-04-12T07:25:56.571190Z",
     "shell.execute_reply.started": "2023-04-12T07:25:56.560920Z"
    }
   },
   "outputs": [],
   "source": [
    "df['price']=df['price'].astype('float')"
   ]
  },
  {
   "cell_type": "code",
   "execution_count": null,
   "metadata": {},
   "outputs": [],
   "source": []
  },
  {
   "cell_type": "code",
   "execution_count": 15,
   "metadata": {
    "execution": {
     "iopub.execute_input": "2023-04-12T07:25:56.575160Z",
     "iopub.status.busy": "2023-04-12T07:25:56.574729Z",
     "iopub.status.idle": "2023-04-12T07:25:56.586551Z",
     "shell.execute_reply": "2023-04-12T07:25:56.585651Z",
     "shell.execute_reply.started": "2023-04-12T07:25:56.575094Z"
    }
   },
   "outputs": [],
   "source": [
    "price=df['price'].median()\n",
    "df[\"price\"]=df['price'].fillna(price)"
   ]
  },
  {
   "cell_type": "code",
   "execution_count": 16,
   "metadata": {
    "execution": {
     "iopub.execute_input": "2023-04-12T07:25:56.588448Z",
     "iopub.status.busy": "2023-04-12T07:25:56.587671Z",
     "iopub.status.idle": "2023-04-12T07:25:56.597709Z",
     "shell.execute_reply": "2023-04-12T07:25:56.596834Z",
     "shell.execute_reply.started": "2023-04-12T07:25:56.588412Z"
    }
   },
   "outputs": [],
   "source": [
    "rating=df['Rating'].median()\n",
    "df[\"Rating\"]=df['Rating'].fillna(rating)"
   ]
  },
  {
   "cell_type": "code",
   "execution_count": 17,
   "metadata": {
    "execution": {
     "iopub.execute_input": "2023-04-12T07:25:56.600025Z",
     "iopub.status.busy": "2023-04-12T07:25:56.599268Z",
     "iopub.status.idle": "2023-04-12T07:25:56.617693Z",
     "shell.execute_reply": "2023-04-12T07:25:56.616193Z",
     "shell.execute_reply.started": "2023-04-12T07:25:56.599978Z"
    }
   },
   "outputs": [],
   "source": [
    "reviews=df['reviews'].mode()\n",
    "df[\"reviews\"]=df['reviews'].fillna(reviews)"
   ]
  },
  {
   "cell_type": "code",
   "execution_count": 18,
   "metadata": {
    "execution": {
     "iopub.execute_input": "2023-04-12T07:25:56.621288Z",
     "iopub.status.busy": "2023-04-12T07:25:56.620784Z",
     "iopub.status.idle": "2023-04-12T07:25:56.641234Z",
     "shell.execute_reply": "2023-04-12T07:25:56.639825Z",
     "shell.execute_reply.started": "2023-04-12T07:25:56.621240Z"
    }
   },
   "outputs": [
    {
     "name": "stdout",
     "output_type": "stream",
     "text": [
      "bed 222\n",
      "place 356\n",
      "room 483\n",
      "condition 6\n"
     ]
    }
   ],
   "source": [
    "print('bed',df['bed'].nunique())\n",
    "print('place',df['Place'].nunique())\n",
    "print('room',df['room'].nunique())\n",
    "print('condition',df['Condition'].nunique())"
   ]
  },
  {
   "cell_type": "code",
   "execution_count": 19,
   "metadata": {
    "execution": {
     "iopub.execute_input": "2023-04-12T07:25:56.658863Z",
     "iopub.status.busy": "2023-04-12T07:25:56.658180Z",
     "iopub.status.idle": "2023-04-12T07:25:56.676191Z",
     "shell.execute_reply": "2023-04-12T07:25:56.674752Z",
     "shell.execute_reply.started": "2023-04-12T07:25:56.658825Z"
    }
   },
   "outputs": [],
   "source": [
    "df.dropna(axis=0,inplace=True)"
   ]
  },
  {
   "cell_type": "code",
   "execution_count": 20,
   "metadata": {
    "execution": {
     "iopub.execute_input": "2023-04-12T07:25:56.679801Z",
     "iopub.status.busy": "2023-04-12T07:25:56.679089Z",
     "iopub.status.idle": "2023-04-12T07:25:56.684853Z",
     "shell.execute_reply": "2023-04-12T07:25:56.683716Z",
     "shell.execute_reply.started": "2023-04-12T07:25:56.679761Z"
    }
   },
   "outputs": [],
   "source": [
    "from sklearn.preprocessing import StandardScaler,LabelEncoder\n",
    "from sklearn.model_selection import train_test_split"
   ]
  },
  {
   "cell_type": "code",
   "execution_count": 21,
   "metadata": {
    "execution": {
     "iopub.execute_input": "2023-04-12T07:25:56.705653Z",
     "iopub.status.busy": "2023-04-12T07:25:56.705160Z",
     "iopub.status.idle": "2023-04-12T07:25:56.713915Z",
     "shell.execute_reply": "2023-04-12T07:25:56.712525Z",
     "shell.execute_reply.started": "2023-04-12T07:25:56.705610Z"
    }
   },
   "outputs": [],
   "source": [
    "X=df.drop('price',axis=1)\n",
    "y=df['price']"
   ]
  },
  {
   "cell_type": "code",
   "execution_count": 22,
   "metadata": {
    "execution": {
     "iopub.execute_input": "2023-04-12T07:25:56.757060Z",
     "iopub.status.busy": "2023-04-12T07:25:56.756580Z",
     "iopub.status.idle": "2023-04-12T07:25:56.762351Z",
     "shell.execute_reply": "2023-04-12T07:25:56.761169Z",
     "shell.execute_reply.started": "2023-04-12T07:25:56.757017Z"
    }
   },
   "outputs": [],
   "source": [
    "Standard_scale=StandardScaler()"
   ]
  },
  {
   "cell_type": "code",
   "execution_count": 23,
   "metadata": {
    "execution": {
     "iopub.execute_input": "2023-04-12T07:25:56.768559Z",
     "iopub.status.busy": "2023-04-12T07:25:56.768179Z",
     "iopub.status.idle": "2023-04-12T07:25:56.774264Z",
     "shell.execute_reply": "2023-04-12T07:25:56.773084Z",
     "shell.execute_reply.started": "2023-04-12T07:25:56.768522Z"
    }
   },
   "outputs": [],
   "source": [
    "Le_place=LabelEncoder()\n",
    "Le_room=LabelEncoder()\n",
    "Le_bed=LabelEncoder()\n",
    "Le_condition=LabelEncoder()"
   ]
  },
  {
   "cell_type": "code",
   "execution_count": 24,
   "metadata": {
    "execution": {
     "iopub.execute_input": "2023-04-12T07:25:57.266525Z",
     "iopub.status.busy": "2023-04-12T07:25:57.265851Z",
     "iopub.status.idle": "2023-04-12T07:25:57.325446Z",
     "shell.execute_reply": "2023-04-12T07:25:57.324135Z",
     "shell.execute_reply.started": "2023-04-12T07:25:57.266461Z"
    }
   },
   "outputs": [],
   "source": [
    "X['Place']=Le_place.fit_transform(df['Place'])\n",
    "X['room']=Le_room.fit_transform(df['room'])\n",
    "X['bed']=Le_bed.fit_transform(df['bed'])\n",
    "X['Condition']=Le_bed.fit_transform(df['Condition'])"
   ]
  },
  {
   "cell_type": "code",
   "execution_count": 25,
   "metadata": {
    "execution": {
     "iopub.execute_input": "2023-04-12T07:25:57.756550Z",
     "iopub.status.busy": "2023-04-12T07:25:57.755384Z",
     "iopub.status.idle": "2023-04-12T07:25:57.771208Z",
     "shell.execute_reply": "2023-04-12T07:25:57.769719Z",
     "shell.execute_reply.started": "2023-04-12T07:25:57.756504Z"
    }
   },
   "outputs": [],
   "source": [
    "X=Standard_scale.fit_transform(X)"
   ]
  },
  {
   "cell_type": "code",
   "execution_count": 26,
   "metadata": {
    "execution": {
     "iopub.execute_input": "2023-04-12T07:25:57.800694Z",
     "iopub.status.busy": "2023-04-12T07:25:57.800240Z",
     "iopub.status.idle": "2023-04-12T07:25:57.808669Z",
     "shell.execute_reply": "2023-04-12T07:25:57.807552Z",
     "shell.execute_reply.started": "2023-04-12T07:25:57.800657Z"
    }
   },
   "outputs": [
    {
     "data": {
      "text/plain": [
       "array([[-0.569138  ,  0.72397868, -0.32367568,  1.45598528,  0.30420287,\n",
       "        -0.13707793],\n",
       "       [ 0.05464232, -1.5350265 , -0.78451909,  1.45598528,  0.1815184 ,\n",
       "         3.33387821],\n",
       "       [-0.91221718,  0.37961813,  1.25855334,  1.45598528, -0.06385054,\n",
       "         5.89378857],\n",
       "       ...,\n",
       "       [ 0.81357504,  1.55044399, -0.76915764,  0.80882355,  1.16299416,\n",
       "        -0.53485849],\n",
       "       [ 0.74080067,  1.06833922, -0.32367568,  1.45598528,  0.05883393,\n",
       "        -0.44503707],\n",
       "       [ 0.73040433,  0.02837038, -0.76915764,  0.80882355,  1.4083631 ,\n",
       "        -0.56693756]])"
      ]
     },
     "execution_count": 26,
     "metadata": {},
     "output_type": "execute_result"
    }
   ],
   "source": [
    "X"
   ]
  },
  {
   "cell_type": "code",
   "execution_count": 27,
   "metadata": {
    "execution": {
     "iopub.execute_input": "2023-04-12T07:25:57.838157Z",
     "iopub.status.busy": "2023-04-12T07:25:57.837671Z",
     "iopub.status.idle": "2023-04-12T07:25:57.850034Z",
     "shell.execute_reply": "2023-04-12T07:25:57.848454Z",
     "shell.execute_reply.started": "2023-04-12T07:25:57.838102Z"
    }
   },
   "outputs": [],
   "source": [
    "Xtrain,Xtest,ytrain,ytest=train_test_split(X,y,test_size=0.3,random_state=4)"
   ]
  },
  {
   "cell_type": "code",
   "execution_count": 42,
   "metadata": {
    "execution": {
     "iopub.execute_input": "2023-04-12T07:28:09.181615Z",
     "iopub.status.busy": "2023-04-12T07:28:09.181084Z",
     "iopub.status.idle": "2023-04-12T07:28:09.189622Z",
     "shell.execute_reply": "2023-04-12T07:28:09.186603Z",
     "shell.execute_reply.started": "2023-04-12T07:28:09.181569Z"
    }
   },
   "outputs": [],
   "source": [
    "model=xgb.XGBRegressor()"
   ]
  },
  {
   "cell_type": "code",
   "execution_count": 36,
   "metadata": {
    "execution": {
     "iopub.execute_input": "2023-04-12T07:27:43.330876Z",
     "iopub.status.busy": "2023-04-12T07:27:43.329709Z",
     "iopub.status.idle": "2023-04-12T07:27:43.336368Z",
     "shell.execute_reply": "2023-04-12T07:27:43.335049Z",
     "shell.execute_reply.started": "2023-04-12T07:27:43.330806Z"
    }
   },
   "outputs": [],
   "source": [
    "model=RandomForestRegressor()"
   ]
  },
  {
   "cell_type": "code",
   "execution_count": 51,
   "metadata": {
    "execution": {
     "iopub.execute_input": "2023-04-12T07:31:21.715229Z",
     "iopub.status.busy": "2023-04-12T07:31:21.714743Z",
     "iopub.status.idle": "2023-04-12T07:31:21.720581Z",
     "shell.execute_reply": "2023-04-12T07:31:21.719263Z",
     "shell.execute_reply.started": "2023-04-12T07:31:21.715191Z"
    }
   },
   "outputs": [],
   "source": [
    "model=LGBMRegressor()"
   ]
  },
  {
   "cell_type": "code",
   "execution_count": 52,
   "metadata": {
    "execution": {
     "iopub.execute_input": "2023-04-12T07:31:22.821054Z",
     "iopub.status.busy": "2023-04-12T07:31:22.820585Z",
     "iopub.status.idle": "2023-04-12T07:31:23.666002Z",
     "shell.execute_reply": "2023-04-12T07:31:23.664647Z",
     "shell.execute_reply.started": "2023-04-12T07:31:22.821015Z"
    }
   },
   "outputs": [
    {
     "data": {
      "text/plain": [
       "LGBMRegressor()"
      ]
     },
     "execution_count": 52,
     "metadata": {},
     "output_type": "execute_result"
    }
   ],
   "source": [
    "model.fit(Xtrain,ytrain)"
   ]
  },
  {
   "cell_type": "code",
   "execution_count": 53,
   "metadata": {
    "execution": {
     "iopub.execute_input": "2023-04-12T07:31:23.668520Z",
     "iopub.status.busy": "2023-04-12T07:31:23.668157Z",
     "iopub.status.idle": "2023-04-12T07:31:23.673388Z",
     "shell.execute_reply": "2023-04-12T07:31:23.672403Z",
     "shell.execute_reply.started": "2023-04-12T07:31:23.668487Z"
    }
   },
   "outputs": [],
   "source": [
    "from sklearn.metrics import mean_absolute_percentage_error,mean_absolute_error"
   ]
  },
  {
   "cell_type": "code",
   "execution_count": 54,
   "metadata": {
    "execution": {
     "iopub.execute_input": "2023-04-12T07:31:24.999391Z",
     "iopub.status.busy": "2023-04-12T07:31:24.998313Z",
     "iopub.status.idle": "2023-04-12T07:31:25.035990Z",
     "shell.execute_reply": "2023-04-12T07:31:25.034591Z",
     "shell.execute_reply.started": "2023-04-12T07:31:24.999342Z"
    }
   },
   "outputs": [],
   "source": [
    "ypred=model.predict(Xtest)"
   ]
  },
  {
   "cell_type": "code",
   "execution_count": 55,
   "metadata": {
    "execution": {
     "iopub.execute_input": "2023-04-12T07:31:25.283577Z",
     "iopub.status.busy": "2023-04-12T07:31:25.282025Z",
     "iopub.status.idle": "2023-04-12T07:31:25.346615Z",
     "shell.execute_reply": "2023-04-12T07:31:25.345490Z",
     "shell.execute_reply.started": "2023-04-12T07:31:25.283519Z"
    }
   },
   "outputs": [],
   "source": [
    "Xpred=model.predict(Xtrain)"
   ]
  },
  {
   "cell_type": "code",
   "execution_count": 56,
   "metadata": {
    "execution": {
     "iopub.execute_input": "2023-04-12T07:31:25.533485Z",
     "iopub.status.busy": "2023-04-12T07:31:25.532211Z",
     "iopub.status.idle": "2023-04-12T07:31:25.543995Z",
     "shell.execute_reply": "2023-04-12T07:31:25.542400Z",
     "shell.execute_reply.started": "2023-04-12T07:31:25.533439Z"
    }
   },
   "outputs": [
    {
     "name": "stdout",
     "output_type": "stream",
     "text": [
      "Training Accuracy\n",
      "10.389131423281736\n",
      "0.8452776697057377\n",
      "\n",
      "\n",
      "Testing Accuracy\n",
      "11.932910134954618\n",
      "0.8363787533453139\n"
     ]
    }
   ],
   "source": [
    "print('Training Accuracy')\n",
    "print(mean_absolute_error(ytrain,Xpred))\n",
    "print(1-mean_absolute_percentage_error(ytrain,Xpred))\n",
    "\n",
    "print('\\n')\n",
    "\n",
    "print('Testing Accuracy')\n",
    "print(mean_absolute_error(ytest,ypred))\n",
    "print(1-mean_absolute_percentage_error(ytest,ypred))"
   ]
  },
  {
   "cell_type": "code",
   "execution_count": null,
   "metadata": {},
   "outputs": [],
   "source": []
  },
  {
   "cell_type": "code",
   "execution_count": null,
   "metadata": {},
   "outputs": [],
   "source": []
  }
 ],
 "metadata": {
  "kernelspec": {
   "display_name": "Python 3 (ipykernel)",
   "language": "python",
   "name": "python3"
  },
  "language_info": {
   "codemirror_mode": {
    "name": "ipython",
    "version": 3
   },
   "file_extension": ".py",
   "mimetype": "text/x-python",
   "name": "python",
   "nbconvert_exporter": "python",
   "pygments_lexer": "ipython3",
   "version": "3.9.12"
  }
 },
 "nbformat": 4,
 "nbformat_minor": 4
}
